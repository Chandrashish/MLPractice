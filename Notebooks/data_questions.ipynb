{
 "cells": [
  {
   "cell_type": "code",
   "execution_count": 4,
   "metadata": {},
   "outputs": [],
   "source": [
    "\"\"\"\n",
    "    fitness: low, medium, medium-high, high\n",
    "    https://machinelearningmastery.com/chi-squared-test-for-machine-learning/\n",
    "\"\"\"\n",
    "never_smoked = [113, 113, 110, 159]\n",
    "former_smokers = [119, 135, 172, 190]\n",
    "one_to_nine_daily = [77, 91, 86, 65]\n",
    "at_least_ten_daily = [181, 152, 124, 73]\n",
    "\n",
    "\"\"\"\n",
    "    Is there a relation between smoking and fitness level ?\n",
    "\"\"\"\n",
    "import pandas as pd\n",
    "\n",
    "df = pd.DataFrame({'never_smoked': never_smoked, \n",
    "                  'former_smokers': former_smokers, \n",
    "                  'one_to_nine_daily': one_to_nine_daily,\n",
    "                  'at_least_ten_daily': at_least_ten_daily}).T"
   ]
  },
  {
   "cell_type": "code",
   "execution_count": 8,
   "metadata": {},
   "outputs": [],
   "source": [
    "df.columns = ['low', 'medium', 'med-high', 'high']"
   ]
  },
  {
   "cell_type": "code",
   "execution_count": 9,
   "metadata": {},
   "outputs": [
    {
     "data": {
      "text/html": [
       "<div>\n",
       "<style scoped>\n",
       "    .dataframe tbody tr th:only-of-type {\n",
       "        vertical-align: middle;\n",
       "    }\n",
       "\n",
       "    .dataframe tbody tr th {\n",
       "        vertical-align: top;\n",
       "    }\n",
       "\n",
       "    .dataframe thead th {\n",
       "        text-align: right;\n",
       "    }\n",
       "</style>\n",
       "<table border=\"1\" class=\"dataframe\">\n",
       "  <thead>\n",
       "    <tr style=\"text-align: right;\">\n",
       "      <th></th>\n",
       "      <th>low</th>\n",
       "      <th>medium</th>\n",
       "      <th>med-high</th>\n",
       "      <th>high</th>\n",
       "    </tr>\n",
       "  </thead>\n",
       "  <tbody>\n",
       "    <tr>\n",
       "      <th>never_smoked</th>\n",
       "      <td>113</td>\n",
       "      <td>113</td>\n",
       "      <td>110</td>\n",
       "      <td>159</td>\n",
       "    </tr>\n",
       "    <tr>\n",
       "      <th>former_smokers</th>\n",
       "      <td>119</td>\n",
       "      <td>135</td>\n",
       "      <td>172</td>\n",
       "      <td>190</td>\n",
       "    </tr>\n",
       "    <tr>\n",
       "      <th>one_to_nine_daily</th>\n",
       "      <td>77</td>\n",
       "      <td>91</td>\n",
       "      <td>86</td>\n",
       "      <td>65</td>\n",
       "    </tr>\n",
       "    <tr>\n",
       "      <th>at_least_ten_daily</th>\n",
       "      <td>181</td>\n",
       "      <td>152</td>\n",
       "      <td>124</td>\n",
       "      <td>73</td>\n",
       "    </tr>\n",
       "  </tbody>\n",
       "</table>\n",
       "</div>"
      ],
      "text/plain": [
       "                    low  medium  med-high  high\n",
       "never_smoked        113     113       110   159\n",
       "former_smokers      119     135       172   190\n",
       "one_to_nine_daily    77      91        86    65\n",
       "at_least_ten_daily  181     152       124    73"
      ]
     },
     "execution_count": 9,
     "metadata": {},
     "output_type": "execute_result"
    }
   ],
   "source": [
    "df"
   ]
  },
  {
   "cell_type": "code",
   "execution_count": 15,
   "metadata": {},
   "outputs": [
    {
     "name": "stdout",
     "output_type": "stream",
     "text": [
      "H0: the distribution of fitness level is independent of smoker status\n",
      "\n",
      "\n",
      "                    low  medium  med-high  high\n",
      "never_smoked        113     113       110   159\n",
      "former_smokers      119     135       172   190\n",
      "one_to_nine_daily    77      91        86    65\n",
      "at_least_ten_daily  181     152       124    73\n",
      "\n",
      "\n",
      "Degrees of freedom = 9\n",
      "The expected values are:\n",
      "[[123.75       124.00255102 124.25510204 122.99234694]\n",
      " [154.         154.31428571 154.62857143 153.05714286]\n",
      " [ 79.75        79.9127551   80.0755102   79.26173469]\n",
      " [132.5        132.77040816 133.04081633 131.68877551]]\n",
      "\n",
      "\n",
      "Interpreting the test statistics:\n",
      "probability=0.950, critical=16.919, stat=87.273\n",
      "Dependent (reject H0)\n",
      "significance=0.050, p=0.000\n",
      "Dependent (reject H0)\n"
     ]
    }
   ],
   "source": [
    "from scipy.stats import chi2_contingency\n",
    "from scipy.stats import chi2\n",
    "print(\"H0: the distribution of fitness level is independent of smoker status\")\n",
    "print(\"\\n\")\n",
    "# contingency table\n",
    "table = df\n",
    "print(table)\n",
    "print('\\n')\n",
    "stat, p, dof, expected = chi2_contingency(table)\n",
    "print('Degrees of freedom = {}'.format(dof))\n",
    "print(\"The expected values are:\")\n",
    "print(expected)\n",
    "print(\"\\n\")\n",
    "print(\"Interpreting the test statistics:\")\n",
    "# interpret test-statistic\n",
    "prob = 0.95\n",
    "critical = chi2.ppf(prob, dof)\n",
    "print('probability=%.3f, critical=%.3f, stat=%.3f' % (prob, critical, stat))\n",
    "if abs(stat) >= critical:\n",
    "    print('Dependent (reject H0)')\n",
    "else:\n",
    "    print('Independent (fail to reject H0)')\n",
    "# interpret p-value\n",
    "alpha = 1.0 - prob\n",
    "print('significance=%.3f, p=%.3f' % (alpha, p))\n",
    "if p <= alpha:\n",
    "    print('Dependent (reject H0)')\n",
    "else:\n",
    "    print('Independent (fail to reject H0)')"
   ]
  },
  {
   "cell_type": "code",
   "execution_count": 18,
   "metadata": {},
   "outputs": [
    {
     "data": {
      "text/plain": [
       "123.75"
      ]
     },
     "execution_count": 18,
     "metadata": {},
     "output_type": "execute_result"
    }
   ],
   "source": [
    "num_never_smoked = (113 + 113 + 110 + 159) \n",
    "num_low_fitness = (113 + 119 + 77 + 181) \n",
    "total = (113 + 113 + 110 + 159 + 119 + 135 + 172 + 190 + 77 + 91 + 86 + 65 + 181 + 152 + 124 + 73)\n",
    "\n",
    "expected_never_smoke_and_low_fitness = num_never_smoked*num_low_fitness/total\n",
    "expected_never_smoke_and_low_fitness"
   ]
  },
  {
   "cell_type": "code",
   "execution_count": null,
   "metadata": {},
   "outputs": [],
   "source": []
  }
 ],
 "metadata": {
  "kernelspec": {
   "display_name": "Python 3",
   "language": "python",
   "name": "python3"
  },
  "language_info": {
   "codemirror_mode": {
    "name": "ipython",
    "version": 3
   },
   "file_extension": ".py",
   "mimetype": "text/x-python",
   "name": "python",
   "nbconvert_exporter": "python",
   "pygments_lexer": "ipython3",
   "version": "3.6.7"
  }
 },
 "nbformat": 4,
 "nbformat_minor": 2
}
