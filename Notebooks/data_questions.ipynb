{
 "cells": [
  {
   "cell_type": "markdown",
   "metadata": {},
   "source": [
    "Done:\n",
    "81 : chi-square test\n",
    "80 : group by + join (using with)\n"
   ]
  },
  {
   "cell_type": "code",
   "execution_count": 4,
   "metadata": {},
   "outputs": [],
   "source": [
    "\"\"\"\n",
    "    Problem 81\n",
    "    fitness: low, medium, medium-high, high\n",
    "    https://machinelearningmastery.com/chi-squared-test-for-machine-learning/\n",
    "\"\"\"\n",
    "never_smoked = [113, 113, 110, 159]\n",
    "former_smokers = [119, 135, 172, 190]\n",
    "one_to_nine_daily = [77, 91, 86, 65]\n",
    "at_least_ten_daily = [181, 152, 124, 73]\n",
    "\n",
    "\"\"\"\n",
    "    Is there a relation between smoking and fitness level ?\n",
    "\"\"\"\n",
    "import pandas as pd\n",
    "\n",
    "df = pd.DataFrame({'never_smoked': never_smoked, \n",
    "                  'former_smokers': former_smokers, \n",
    "                  'one_to_nine_daily': one_to_nine_daily,\n",
    "                  'at_least_ten_daily': at_least_ten_daily}).T"
   ]
  },
  {
   "cell_type": "code",
   "execution_count": 8,
   "metadata": {},
   "outputs": [],
   "source": [
    "df.columns = ['low', 'medium', 'med-high', 'high']"
   ]
  },
  {
   "cell_type": "code",
   "execution_count": 9,
   "metadata": {},
   "outputs": [
    {
     "data": {
      "text/html": [
       "<div>\n",
       "<style scoped>\n",
       "    .dataframe tbody tr th:only-of-type {\n",
       "        vertical-align: middle;\n",
       "    }\n",
       "\n",
       "    .dataframe tbody tr th {\n",
       "        vertical-align: top;\n",
       "    }\n",
       "\n",
       "    .dataframe thead th {\n",
       "        text-align: right;\n",
       "    }\n",
       "</style>\n",
       "<table border=\"1\" class=\"dataframe\">\n",
       "  <thead>\n",
       "    <tr style=\"text-align: right;\">\n",
       "      <th></th>\n",
       "      <th>low</th>\n",
       "      <th>medium</th>\n",
       "      <th>med-high</th>\n",
       "      <th>high</th>\n",
       "    </tr>\n",
       "  </thead>\n",
       "  <tbody>\n",
       "    <tr>\n",
       "      <th>never_smoked</th>\n",
       "      <td>113</td>\n",
       "      <td>113</td>\n",
       "      <td>110</td>\n",
       "      <td>159</td>\n",
       "    </tr>\n",
       "    <tr>\n",
       "      <th>former_smokers</th>\n",
       "      <td>119</td>\n",
       "      <td>135</td>\n",
       "      <td>172</td>\n",
       "      <td>190</td>\n",
       "    </tr>\n",
       "    <tr>\n",
       "      <th>one_to_nine_daily</th>\n",
       "      <td>77</td>\n",
       "      <td>91</td>\n",
       "      <td>86</td>\n",
       "      <td>65</td>\n",
       "    </tr>\n",
       "    <tr>\n",
       "      <th>at_least_ten_daily</th>\n",
       "      <td>181</td>\n",
       "      <td>152</td>\n",
       "      <td>124</td>\n",
       "      <td>73</td>\n",
       "    </tr>\n",
       "  </tbody>\n",
       "</table>\n",
       "</div>"
      ],
      "text/plain": [
       "                    low  medium  med-high  high\n",
       "never_smoked        113     113       110   159\n",
       "former_smokers      119     135       172   190\n",
       "one_to_nine_daily    77      91        86    65\n",
       "at_least_ten_daily  181     152       124    73"
      ]
     },
     "execution_count": 9,
     "metadata": {},
     "output_type": "execute_result"
    }
   ],
   "source": [
    "df"
   ]
  },
  {
   "cell_type": "code",
   "execution_count": 20,
   "metadata": {},
   "outputs": [
    {
     "name": "stdout",
     "output_type": "stream",
     "text": [
      "H0: the distribution of fitness level is independent of smoker status\n",
      "\n",
      "\n",
      "                    low  medium  med-high  high\n",
      "never_smoked        113     113       110   159\n",
      "former_smokers      119     135       172   190\n",
      "one_to_nine_daily    77      91        86    65\n",
      "at_least_ten_daily  181     152       124    73\n",
      "\n",
      "\n",
      "Degrees of freedom = 9\n",
      "The expected values are:\n",
      "[[123.75       124.00255102 124.25510204 122.99234694]\n",
      " [154.         154.31428571 154.62857143 153.05714286]\n",
      " [ 79.75        79.9127551   80.0755102   79.26173469]\n",
      " [132.5        132.77040816 133.04081633 131.68877551]]\n",
      "\n",
      "\n",
      "Interpreting the test statistics:\n",
      "probability=0.950, critical=16.919, stat=87.273\n",
      "Dependent (reject H0)\n",
      "\n",
      "\n",
      "p-value\n",
      "significance=0.050, p=0.000\n",
      "Dependent (reject H0)\n"
     ]
    }
   ],
   "source": [
    "from scipy.stats import chi2_contingency\n",
    "from scipy.stats import chi2\n",
    "print(\"H0: the distribution of fitness level is independent of smoker status\")\n",
    "print(\"\\n\")\n",
    "# contingency table\n",
    "table = df\n",
    "print(table)\n",
    "print('\\n')\n",
    "stat, p, dof, expected = chi2_contingency(table)\n",
    "print('Degrees of freedom = {}'.format(dof))\n",
    "print(\"The expected values are:\")\n",
    "print(expected)\n",
    "print(\"\\n\")\n",
    "print(\"Interpreting the test statistics:\")\n",
    "# interpret test-statistic\n",
    "prob = 0.95\n",
    "critical = chi2.ppf(prob, dof)\n",
    "print('probability=%.3f, critical=%.3f, stat=%.3f' % (prob, critical, stat))\n",
    "if abs(stat) >= critical:\n",
    "    print('Dependent (reject H0)')\n",
    "else:\n",
    "    print('Independent (fail to reject H0)')\n",
    "print('\\n')    \n",
    "print(\"p-value\")    \n",
    "# interpret p-value\n",
    "alpha = 1.0 - prob\n",
    "print('significance=%.3f, p=%.3f' % (alpha, p))\n",
    "if p <= alpha:\n",
    "    print('Dependent (reject H0)')\n",
    "else:\n",
    "    print('Independent (fail to reject H0)')"
   ]
  },
  {
   "cell_type": "code",
   "execution_count": 18,
   "metadata": {},
   "outputs": [
    {
     "data": {
      "text/plain": [
       "123.75"
      ]
     },
     "execution_count": 18,
     "metadata": {},
     "output_type": "execute_result"
    }
   ],
   "source": [
    "num_never_smoked = (113 + 113 + 110 + 159) \n",
    "num_low_fitness = (113 + 119 + 77 + 181) \n",
    "total = (113 + 113 + 110 + 159 + 119 + 135 + 172 + 190 + 77 + 91 + 86 + 65 + 181 + 152 + 124 + 73)\n",
    "\n",
    "expected_never_smoke_and_low_fitness = num_never_smoked*num_low_fitness/total\n",
    "expected_never_smoke_and_low_fitness"
   ]
  },
  {
   "cell_type": "code",
   "execution_count": 7,
   "metadata": {},
   "outputs": [],
   "source": [
    "\"\"\"\n",
    "    airbnb: channel attribution\n",
    "\"\"\"\n",
    "\n",
    "import pandas as pd\n",
    "df = pd.read_csv(\"../Data/channel_attribution/airbnb_test.csv\")"
   ]
  },
  {
   "cell_type": "code",
   "execution_count": 2,
   "metadata": {},
   "outputs": [
    {
     "data": {
      "text/html": [
       "<div>\n",
       "<style scoped>\n",
       "    .dataframe tbody tr th:only-of-type {\n",
       "        vertical-align: middle;\n",
       "    }\n",
       "\n",
       "    .dataframe tbody tr th {\n",
       "        vertical-align: top;\n",
       "    }\n",
       "\n",
       "    .dataframe thead th {\n",
       "        text-align: right;\n",
       "    }\n",
       "</style>\n",
       "<table border=\"1\" class=\"dataframe\">\n",
       "  <thead>\n",
       "    <tr style=\"text-align: right;\">\n",
       "      <th></th>\n",
       "      <th>id</th>\n",
       "      <th>date_account_created</th>\n",
       "      <th>gender</th>\n",
       "      <th>age</th>\n",
       "      <th>signup_method</th>\n",
       "      <th>language</th>\n",
       "      <th>affiliate_channel</th>\n",
       "      <th>affiliate_provider</th>\n",
       "      <th>signup_app</th>\n",
       "      <th>first_device_type</th>\n",
       "      <th>first_browser</th>\n",
       "    </tr>\n",
       "  </thead>\n",
       "  <tbody>\n",
       "    <tr>\n",
       "      <th>0</th>\n",
       "      <td>5uwns89zht</td>\n",
       "      <td>2014-07-01</td>\n",
       "      <td>FEMALE</td>\n",
       "      <td>35.0</td>\n",
       "      <td>facebook</td>\n",
       "      <td>en</td>\n",
       "      <td>direct</td>\n",
       "      <td>direct</td>\n",
       "      <td>Moweb</td>\n",
       "      <td>iPhone</td>\n",
       "      <td>Mobile Safari</td>\n",
       "    </tr>\n",
       "    <tr>\n",
       "      <th>1</th>\n",
       "      <td>jtl0dijy2j</td>\n",
       "      <td>2014-07-01</td>\n",
       "      <td>-unknown-</td>\n",
       "      <td>NaN</td>\n",
       "      <td>basic</td>\n",
       "      <td>en</td>\n",
       "      <td>direct</td>\n",
       "      <td>direct</td>\n",
       "      <td>Moweb</td>\n",
       "      <td>iPhone</td>\n",
       "      <td>Mobile Safari</td>\n",
       "    </tr>\n",
       "    <tr>\n",
       "      <th>2</th>\n",
       "      <td>xx0ulgorjt</td>\n",
       "      <td>2014-07-01</td>\n",
       "      <td>-unknown-</td>\n",
       "      <td>NaN</td>\n",
       "      <td>basic</td>\n",
       "      <td>en</td>\n",
       "      <td>direct</td>\n",
       "      <td>direct</td>\n",
       "      <td>Web</td>\n",
       "      <td>Windows Desktop</td>\n",
       "      <td>Chrome</td>\n",
       "    </tr>\n",
       "    <tr>\n",
       "      <th>3</th>\n",
       "      <td>6c6puo6ix0</td>\n",
       "      <td>2014-07-01</td>\n",
       "      <td>-unknown-</td>\n",
       "      <td>NaN</td>\n",
       "      <td>basic</td>\n",
       "      <td>en</td>\n",
       "      <td>direct</td>\n",
       "      <td>direct</td>\n",
       "      <td>Web</td>\n",
       "      <td>Windows Desktop</td>\n",
       "      <td>IE</td>\n",
       "    </tr>\n",
       "    <tr>\n",
       "      <th>4</th>\n",
       "      <td>czqhjk3yfe</td>\n",
       "      <td>2014-07-01</td>\n",
       "      <td>-unknown-</td>\n",
       "      <td>NaN</td>\n",
       "      <td>basic</td>\n",
       "      <td>en</td>\n",
       "      <td>direct</td>\n",
       "      <td>direct</td>\n",
       "      <td>Web</td>\n",
       "      <td>Mac Desktop</td>\n",
       "      <td>Safari</td>\n",
       "    </tr>\n",
       "  </tbody>\n",
       "</table>\n",
       "</div>"
      ],
      "text/plain": [
       "           id date_account_created     gender   age signup_method language  \\\n",
       "0  5uwns89zht           2014-07-01     FEMALE  35.0      facebook       en   \n",
       "1  jtl0dijy2j           2014-07-01  -unknown-   NaN         basic       en   \n",
       "2  xx0ulgorjt           2014-07-01  -unknown-   NaN         basic       en   \n",
       "3  6c6puo6ix0           2014-07-01  -unknown-   NaN         basic       en   \n",
       "4  czqhjk3yfe           2014-07-01  -unknown-   NaN         basic       en   \n",
       "\n",
       "  affiliate_channel affiliate_provider signup_app first_device_type  \\\n",
       "0            direct             direct      Moweb            iPhone   \n",
       "1            direct             direct      Moweb            iPhone   \n",
       "2            direct             direct        Web   Windows Desktop   \n",
       "3            direct             direct        Web   Windows Desktop   \n",
       "4            direct             direct        Web       Mac Desktop   \n",
       "\n",
       "   first_browser  \n",
       "0  Mobile Safari  \n",
       "1  Mobile Safari  \n",
       "2         Chrome  \n",
       "3             IE  \n",
       "4         Safari  "
      ]
     },
     "execution_count": 2,
     "metadata": {},
     "output_type": "execute_result"
    }
   ],
   "source": [
    "df.head()"
   ]
  },
  {
   "cell_type": "code",
   "execution_count": 11,
   "metadata": {},
   "outputs": [
    {
     "data": {
      "text/plain": [
       "id                       object\n",
       "date_account_created     object\n",
       "gender                   object\n",
       "age                     float64\n",
       "signup_method            object\n",
       "language                 object\n",
       "affiliate_channel        object\n",
       "affiliate_provider       object\n",
       "signup_app               object\n",
       "first_device_type        object\n",
       "first_browser            object\n",
       "dtype: object"
      ]
     },
     "execution_count": 11,
     "metadata": {},
     "output_type": "execute_result"
    }
   ],
   "source": [
    "df.dtypes"
   ]
  },
  {
   "cell_type": "code",
   "execution_count": 29,
   "metadata": {},
   "outputs": [
    {
     "data": {
      "text/plain": [
       "92"
      ]
     },
     "execution_count": 29,
     "metadata": {},
     "output_type": "execute_result"
    }
   ],
   "source": [
    "len(df['date_account_created'].unique())"
   ]
  },
  {
   "cell_type": "code",
   "execution_count": 30,
   "metadata": {},
   "outputs": [
    {
     "data": {
      "text/plain": [
       "direct           43844\n",
       "sem-brand        10394\n",
       "seo               5699\n",
       "sem-non-brand     1231\n",
       "other              586\n",
       "remarketing        172\n",
       "content            170\n",
       "Name: affiliate_channel, dtype: int64"
      ]
     },
     "execution_count": 30,
     "metadata": {},
     "output_type": "execute_result"
    }
   ],
   "source": [
    "df['affiliate_channel'].value_counts()"
   ]
  },
  {
   "cell_type": "code",
   "execution_count": 26,
   "metadata": {},
   "outputs": [
    {
     "name": "stdout",
     "output_type": "stream",
     "text": [
      "id: 0.0\n",
      "date_account_created: 0.0\n",
      "gender: 0.0\n",
      "age: 0.4650219015717598\n",
      "signup_method: 0.0\n",
      "language: 0.0\n",
      "affiliate_channel: 0.0\n",
      "affiliate_provider: 0.0\n",
      "signup_app: 0.0\n",
      "first_device_type: 0.0\n",
      "first_browser: 0.0\n"
     ]
    }
   ],
   "source": [
    "def fraction_of_nans(df):\n",
    "    for column in df.columns.tolist():\n",
    "        print(\"{}: {}\".format(column, 1-df[column].count()/len(df)))\n",
    "        \n",
    "fraction_of_nans(df)        "
   ]
  },
  {
   "cell_type": "code",
   "execution_count": 31,
   "metadata": {},
   "outputs": [],
   "source": [
    "import numpy as np\n",
    "df['age'] = df['age'].astype(np.float32)"
   ]
  },
  {
   "cell_type": "code",
   "execution_count": 33,
   "metadata": {},
   "outputs": [
    {
     "data": {
      "text/plain": [
       "True"
      ]
     },
     "execution_count": 33,
     "metadata": {},
     "output_type": "execute_result"
    }
   ],
   "source": [
    "\"\"\"\n",
    "    test if all ids are unique\n",
    "\"\"\"\n",
    "df['id'].nunique() == len(df)"
   ]
  },
  {
   "cell_type": "code",
   "execution_count": null,
   "metadata": {},
   "outputs": [],
   "source": []
  },
  {
   "cell_type": "markdown",
   "metadata": {},
   "source": [
    "\n"
   ]
  }
 ],
 "metadata": {
  "kernelspec": {
   "display_name": "Python 3",
   "language": "python",
   "name": "python3"
  },
  "language_info": {
   "codemirror_mode": {
    "name": "ipython",
    "version": 3
   },
   "file_extension": ".py",
   "mimetype": "text/x-python",
   "name": "python",
   "nbconvert_exporter": "python",
   "pygments_lexer": "ipython3",
   "version": "3.6.7"
  }
 },
 "nbformat": 4,
 "nbformat_minor": 2
}
