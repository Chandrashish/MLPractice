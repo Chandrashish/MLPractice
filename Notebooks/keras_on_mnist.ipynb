{
 "cells": [
  {
   "cell_type": "markdown",
   "metadata": {},
   "source": [
    "https://nextjournal.com/gkoehler/digit-recognition-with-keras"
   ]
  },
  {
   "cell_type": "code",
   "execution_count": 3,
   "metadata": {},
   "outputs": [
    {
     "data": {
      "text/plain": [
       "'.'"
      ]
     },
     "execution_count": 3,
     "metadata": {},
     "output_type": "execute_result"
    }
   ],
   "source": [
    "from keras.datasets import mnist\n",
    "mnist.load_data()\n",
    "'.'"
   ]
  },
  {
   "cell_type": "code",
   "execution_count": 17,
   "metadata": {},
   "outputs": [],
   "source": [
    "# imports for array-handling and plotting\n",
    "# imports for array-handling and plotting\n",
    "import numpy as np\n",
    "import matplotlib\n",
    "#matplotlib.use('agg')\n",
    "import matplotlib.pyplot as plt"
   ]
  },
  {
   "cell_type": "code",
   "execution_count": 18,
   "metadata": {},
   "outputs": [],
   "source": [
    "# keras imports for the dataset and building our neural network\n",
    "from keras.datasets import mnist\n",
    "from keras.models import Sequential, load_model\n",
    "from keras.layers.core import Dense, Dropout, Activation\n",
    "from keras.utils import np_utils"
   ]
  },
  {
   "cell_type": "code",
   "execution_count": 19,
   "metadata": {},
   "outputs": [],
   "source": [
    "(X_train, y_train), (X_test, y_test) = mnist.load_data()"
   ]
  },
  {
   "cell_type": "code",
   "execution_count": 20,
   "metadata": {},
   "outputs": [
    {
     "name": "stdout",
     "output_type": "stream",
     "text": [
      "X_train shape (60000, 28, 28)\n",
      "y_train shape (60000,)\n",
      "X_test shape (10000, 28, 28)\n",
      "y_test shape (10000,)\n",
      "Train matrix shape (60000, 784)\n",
      "Test matrix shape (10000, 784)\n"
     ]
    }
   ],
   "source": [
    "# let's print the shape before we reshape and normalize\n",
    "print(\"X_train shape\", X_train.shape)\n",
    "print(\"y_train shape\", y_train.shape)\n",
    "print(\"X_test shape\", X_test.shape)\n",
    "print(\"y_test shape\", y_test.shape)\n",
    "\n",
    "# building the input vector from the 28x28 pixels\n",
    "X_train = X_train.reshape(60000, 784)\n",
    "X_test = X_test.reshape(10000, 784)\n",
    "X_train = X_train.astype('float32')\n",
    "X_test = X_test.astype('float32')\n",
    "\n",
    "# normalizing the data to help with the training\n",
    "X_train /= 255\n",
    "X_test /= 255\n",
    "\n",
    "# print the final input shape ready for training\n",
    "print(\"Train matrix shape\", X_train.shape)\n",
    "print(\"Test matrix shape\", X_test.shape)"
   ]
  },
  {
   "cell_type": "code",
   "execution_count": 21,
   "metadata": {},
   "outputs": [
    {
     "name": "stdout",
     "output_type": "stream",
     "text": [
      "(array([0, 1, 2, 3, 4, 5, 6, 7, 8, 9], dtype=uint8), array([5923, 6742, 5958, 6131, 5842, 5421, 5918, 6265, 5851, 5949]))\n"
     ]
    }
   ],
   "source": [
    "print(np.unique(y_train, return_counts=True))"
   ]
  },
  {
   "cell_type": "code",
   "execution_count": 22,
   "metadata": {},
   "outputs": [
    {
     "name": "stdout",
     "output_type": "stream",
     "text": [
      "Shape before one-hot encoding:  (60000,)\n",
      "Shape after one-hot encoding:  (60000, 10)\n"
     ]
    }
   ],
   "source": [
    "# one-hot encoding using keras' numpy-related utilities\n",
    "n_classes = 10\n",
    "print(\"Shape before one-hot encoding: \", y_train.shape)\n",
    "Y_train = np_utils.to_categorical(y_train, n_classes)\n",
    "Y_test = np_utils.to_categorical(y_test, n_classes)\n",
    "print(\"Shape after one-hot encoding: \", Y_train.shape)"
   ]
  },
  {
   "cell_type": "code",
   "execution_count": 23,
   "metadata": {},
   "outputs": [],
   "source": [
    "# building a linear stack of layers with the sequential model\n",
    "model = Sequential()\n",
    "model.add(Dense(512, input_shape=(784,)))\n",
    "model.add(Activation('relu'))                            \n",
    "model.add(Dropout(0.2))\n",
    "\n",
    "model.add(Dense(512))\n",
    "model.add(Activation('relu'))\n",
    "model.add(Dropout(0.2))\n",
    "\n",
    "model.add(Dense(10))\n",
    "model.add(Activation('softmax'))"
   ]
  },
  {
   "cell_type": "code",
   "execution_count": 24,
   "metadata": {},
   "outputs": [],
   "source": [
    "# compiling the sequential model\n",
    "model.compile(loss='categorical_crossentropy', metrics=['accuracy'], optimizer='adam')"
   ]
  },
  {
   "cell_type": "code",
   "execution_count": 25,
   "metadata": {},
   "outputs": [
    {
     "name": "stdout",
     "output_type": "stream",
     "text": [
      "Train on 60000 samples, validate on 10000 samples\n",
      "Epoch 1/20\n",
      " - 2s - loss: 0.2545 - acc: 0.9232 - val_loss: 0.1145 - val_acc: 0.9632\n",
      "Epoch 2/20\n",
      " - 1s - loss: 0.1026 - acc: 0.9684 - val_loss: 0.0792 - val_acc: 0.9756\n",
      "Epoch 3/20\n",
      " - 1s - loss: 0.0731 - acc: 0.9772 - val_loss: 0.0754 - val_acc: 0.9768\n",
      "Epoch 4/20\n",
      " - 1s - loss: 0.0557 - acc: 0.9822 - val_loss: 0.0601 - val_acc: 0.9816\n",
      "Epoch 5/20\n",
      " - 1s - loss: 0.0466 - acc: 0.9843 - val_loss: 0.0676 - val_acc: 0.9805\n",
      "Epoch 6/20\n",
      " - 1s - loss: 0.0381 - acc: 0.9877 - val_loss: 0.0784 - val_acc: 0.9764\n",
      "Epoch 7/20\n",
      " - 1s - loss: 0.0371 - acc: 0.9880 - val_loss: 0.0597 - val_acc: 0.9814\n",
      "Epoch 8/20\n",
      " - 1s - loss: 0.0315 - acc: 0.9894 - val_loss: 0.0633 - val_acc: 0.9820\n",
      "Epoch 9/20\n",
      " - 1s - loss: 0.0276 - acc: 0.9908 - val_loss: 0.0714 - val_acc: 0.9802\n",
      "Epoch 10/20\n",
      " - 1s - loss: 0.0241 - acc: 0.9921 - val_loss: 0.0792 - val_acc: 0.9808\n",
      "Epoch 11/20\n",
      " - 1s - loss: 0.0233 - acc: 0.9922 - val_loss: 0.0718 - val_acc: 0.9820\n",
      "Epoch 12/20\n",
      " - 1s - loss: 0.0213 - acc: 0.9925 - val_loss: 0.0799 - val_acc: 0.9817\n",
      "Epoch 13/20\n",
      " - 1s - loss: 0.0231 - acc: 0.9925 - val_loss: 0.0779 - val_acc: 0.9815\n",
      "Epoch 14/20\n",
      " - 1s - loss: 0.0186 - acc: 0.9941 - val_loss: 0.0664 - val_acc: 0.9837\n",
      "Epoch 15/20\n",
      " - 1s - loss: 0.0193 - acc: 0.9939 - val_loss: 0.0714 - val_acc: 0.9844\n",
      "Epoch 16/20\n",
      " - 1s - loss: 0.0179 - acc: 0.9945 - val_loss: 0.0716 - val_acc: 0.9818\n",
      "Epoch 17/20\n",
      " - 1s - loss: 0.0167 - acc: 0.9946 - val_loss: 0.0779 - val_acc: 0.9823\n",
      "Epoch 18/20\n",
      " - 1s - loss: 0.0184 - acc: 0.9939 - val_loss: 0.0688 - val_acc: 0.9844\n",
      "Epoch 19/20\n",
      " - 1s - loss: 0.0159 - acc: 0.9950 - val_loss: 0.0770 - val_acc: 0.9822\n",
      "Epoch 20/20\n",
      " - 1s - loss: 0.0136 - acc: 0.9955 - val_loss: 0.0743 - val_acc: 0.9827\n"
     ]
    }
   ],
   "source": [
    "# training the model and saving metrics in history\n",
    "history = model.fit(X_train, Y_train,\n",
    "          batch_size=128, epochs=20,\n",
    "          verbose=2,\n",
    "          validation_data=(X_test, Y_test))"
   ]
  },
  {
   "cell_type": "code",
   "execution_count": null,
   "metadata": {},
   "outputs": [],
   "source": []
  },
  {
   "cell_type": "code",
   "execution_count": null,
   "metadata": {},
   "outputs": [],
   "source": []
  }
 ],
 "metadata": {
  "kernelspec": {
   "display_name": "(tf_gpu) Python3",
   "language": "python",
   "name": "tf_gpu"
  },
  "language_info": {
   "codemirror_mode": {
    "name": "ipython",
    "version": 3
   },
   "file_extension": ".py",
   "mimetype": "text/x-python",
   "name": "python",
   "nbconvert_exporter": "python",
   "pygments_lexer": "ipython3",
   "version": "3.6.7"
  }
 },
 "nbformat": 4,
 "nbformat_minor": 2
}
